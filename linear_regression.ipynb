{
  "nbformat": 4,
  "nbformat_minor": 0,
  "metadata": {
    "colab": {
      "provenance": [],
      "authorship_tag": "ABX9TyMuI8tSbWWwZ+6bja2rdaz2",
      "include_colab_link": true
    },
    "kernelspec": {
      "name": "python3",
      "display_name": "Python 3"
    },
    "language_info": {
      "name": "python"
    }
  },
  "cells": [
    {
      "cell_type": "markdown",
      "metadata": {
        "id": "view-in-github",
        "colab_type": "text"
      },
      "source": [
        "<a href=\"https://colab.research.google.com/github/ankishore/linear_regression_pytorch/blob/main/linear_regression.ipynb\" target=\"_parent\"><img src=\"https://colab.research.google.com/assets/colab-badge.svg\" alt=\"Open In Colab\"/></a>"
      ]
    },
    {
      "cell_type": "markdown",
      "source": [
        "# Imports"
      ],
      "metadata": {
        "id": "lNKfFeEQiqlw"
      }
    },
    {
      "cell_type": "code",
      "source": [
        "import torch\n",
        "import torch.nn as nn\n",
        "import numpy as np\n",
        "import matplotlib.pyplot as plt"
      ],
      "metadata": {
        "id": "Wymb7MSwitxM"
      },
      "execution_count": 1,
      "outputs": []
    },
    {
      "cell_type": "markdown",
      "source": [
        "# Create dataset"
      ],
      "metadata": {
        "id": "8CGCCU1AjWJL"
      }
    },
    {
      "cell_type": "code",
      "source": [
        "# Create input tensor. 50 rows. 1 column/feature.\n",
        "X = torch.linspace(1, 50, 50).reshape(-1, 1)\n",
        "\n",
        "# Add noise to output tensor\n",
        "e = torch.randint(-8, 9, (50, 1), dtype=torch.float)\n",
        "\n",
        "# Create output tensor with weight=2, bias=1 and noise\n",
        "y = 2*X + 1 + e\n",
        "\n",
        "# Plot data\n",
        "plt.scatter(X.numpy(), y.numpy())\n",
        "plt.ylabel('y')\n",
        "plt.xlabel('X')"
      ],
      "metadata": {
        "colab": {
          "base_uri": "https://localhost:8080/",
          "height": 299
        },
        "id": "MwkqJFDijdp8",
        "outputId": "a8cdc38b-4542-470a-f038-abc15588bdde"
      },
      "execution_count": 3,
      "outputs": [
        {
          "output_type": "execute_result",
          "data": {
            "text/plain": [
              "Text(0.5, 0, 'X')"
            ]
          },
          "metadata": {},
          "execution_count": 3
        },
        {
          "output_type": "display_data",
          "data": {
            "text/plain": [
              "<Figure size 432x288 with 1 Axes>"
            ],
            "image/png": "[encoded data removed]"
          },
          "metadata": {
            "needs_background": "light"
          }
        }
      ]
    },
    {
      "cell_type": "markdown",
      "source": [
        "# Create a model with single fully connected layer\n",
        "Fully connected layer is also called dense or linear layer"
      ],
      "metadata": {
        "id": "W53wxiWLoM8d"
      }
    },
    {
      "cell_type": "code",
      "source": [
        "class Model(nn.Module):\n",
        "  def __init__(self, in_features, out_features):\n",
        "    super().__init__()\n",
        "    self.linear = nn.Linear(in_features, out_features)\n",
        "  \n",
        "  def forward(self, X):\n",
        "    y_pred = self.linear(X)\n",
        "    return y_pred"
      ],
      "metadata": {
        "id": "31Z0dTjXob_d"
      },
      "execution_count": 12,
      "outputs": []
    },
    {
      "cell_type": "markdown",
      "source": [
        "# Plot model prediction(with default/untrained hyper-parameters) vs dataset"
      ],
      "metadata": {
        "id": "ePNiq2LGqIG_"
      }
    },
    {
      "cell_type": "code",
      "source": [
        "# Instantiate a model\n",
        "model = Model(1, 1)\n",
        "\n",
        "# Get initial hyper-parameters. Weight and bias.\n",
        "w1, b1 = model.linear.weight.item(), model.linear.bias.item()\n",
        "print('Initial weight:', w1, '\\nInitial bias:', b1)\n",
        "\n",
        "# Get predicted value using initial hyper-parameter.\n",
        "y1 = X*w1 + b1\n",
        "\n",
        "# Plot dataset vs predicted values\n",
        "plt.scatter(X.numpy(), y.numpy())\n",
        "plt.plot(X.numpy(), y1.numpy(), 'r')\n",
        "plt.title('Initial Model')\n",
        "plt.ylabel('y')\n",
        "plt.xlabel('X')"
      ],
      "metadata": {
        "colab": {
          "base_uri": "https://localhost:8080/",
          "height": 347
        },
        "id": "Mm7GkHi3qpkL",
        "outputId": "33d460d9-b800-4f67-e636-845313bbe8cf"
      },
      "execution_count": 20,
      "outputs": [
        {
          "output_type": "stream",
          "name": "stdout",
          "text": [
            "Initial weight: 0.08069276809692383 \n",
            "Initial bias: 0.0642242431640625\n"
          ]
        },
        {
          "output_type": "execute_result",
          "data": {
            "text/plain": [
              "Text(0.5, 0, 'X')"
            ]
          },
          "metadata": {},
          "execution_count": 20
        },
        {
          "output_type": "display_data",
          "data": {
            "text/plain": [
              "<Figure size 432x288 with 1 Axes>"
            ],
            "image/png": "[encoded data removed]"
          },
          "metadata": {
            "needs_background": "light"
          }
        }
      ]
    },
    {
      "cell_type": "markdown",
      "source": [
        "# Set loss function and optimizer"
      ],
      "metadata": {
        "id": "ZrHsyPtX3bX0"
      }
    },
    {
      "cell_type": "code",
      "source": [
        "# Mean squared error loss function\n",
        "criterion = nn.MSELoss()\n",
        "\n",
        "# Stochastic Gradient Descent\n",
        "optimizer = torch.optim.SGD(model.parameters(), lr=0.001)"
      ],
      "metadata": {
        "id": "03wjlNgP3gY-"
      },
      "execution_count": 22,
      "outputs": []
    },
    {
      "cell_type": "markdown",
      "source": [
        "# Train the model"
      ],
      "metadata": {
        "id": "TzIAkY985DhO"
      }
    },
    {
      "cell_type": "code",
      "source": [
        "epochs = 50\n",
        "losses = [] # log the loss for each epoch\n",
        "\n",
        "for i in range(epochs):\n",
        "  y_pred = model.forward(X)\n",
        "\n",
        "  loss = criterion(y_pred, y)\n",
        "  losses.append(loss)\n",
        "\n",
        "  print('epoch:', i, ' loss:', loss.item(), ' weight:', model.linear.weight.item(), ' bias:', model.linear.bias.item())\n",
        "\n",
        "  # reset Gradient before back-propagation. Pytorch accumulates them.\n",
        "  optimizer.zero_grad()\n",
        "  loss.backward() # Calculate gradient\n",
        "  optimizer.step() # Update hyper-parameters i.e. weight and bias"
      ],
      "metadata": {
        "colab": {
          "base_uri": "https://localhost:8080/"
        },
        "id": "4eE_WJQT5Fnp",
        "outputId": "b1e50cb1-be11-4c87-b531-e2c7b724cbcc"
      },
      "execution_count": 23,
      "outputs": [
        {
          "output_type": "stream",
          "name": "stdout",
          "text": [
            "epoch: 0  loss: 3215.742919921875  weight: 0.08069276809692383  bias: 0.0642242431640625\n",
            "epoch: 1  loss: 1672.26513671875  weight: 3.3907477855682373  bias: 0.16514046490192413\n",
            "epoch: 2  loss: 875.419677734375  weight: 1.012291669845581  bias: 0.0970420390367508\n",
            "epoch: 3  loss: 464.03399658203125  weight: 2.7211179733276367  bias: 0.15038108825683594\n",
            "epoch: 4  loss: 251.64691162109375  weight: 1.493168830871582  bias: 0.116463303565979\n",
            "epoch: 5  loss: 141.9958038330078  weight: 2.375338315963745  bias: 0.14523877203464508\n",
            "epoch: 6  loss: 85.38362121582031  weight: 1.741355299949646  bias: 0.1289660483598709\n",
            "epoch: 7  loss: 56.153621673583984  weight: 2.1967508792877197  bias: 0.1450589895248413\n",
            "epoch: 8  loss: 41.060096740722656  weight: 1.869411587715149  bias: 0.13789457082748413\n",
            "epoch: 9  loss: 33.26468276977539  weight: 2.1044793128967285  bias: 0.14743879437446594\n",
            "epoch: 10  loss: 29.237024307250977  weight: 1.9354490041732788  bias: 0.1449754685163498\n",
            "epoch: 11  loss: 27.15453338623047  weight: 2.056769371032715  bias: 0.15113762021064758\n",
            "epoch: 12  loss: 26.076255798339844  weight: 1.969468355178833  bias: 0.15110009908676147\n",
            "epoch: 13  loss: 25.51644515991211  weight: 2.0320651531219482  bias: 0.15551501512527466\n",
            "epoch: 14  loss: 25.224279403686523  weight: 1.9869579076766968  bias: 0.15672865509986877\n",
            "epoch: 15  loss: 25.070287704467773  weight: 2.019237995147705  bias: 0.16024033725261688\n",
            "epoch: 16  loss: 24.987655639648438  weight: 1.995914101600647  bias: 0.1620987206697464\n",
            "epoch: 17  loss: 24.94186019897461  weight: 2.012542486190796  bias: 0.16514290869235992\n",
            "epoch: 18  loss: 24.915077209472656  weight: 2.000464677810669  bias: 0.1673329472541809\n",
            "epoch: 19  loss: 24.898107528686523  weight: 2.0090126991271973  bias: 0.17013457417488098\n",
            "epoch: 20  loss: 24.886228561401367  weight: 2.0027410984039307  bias: 0.17249464988708496\n",
            "epoch: 21  loss: 24.876964569091797  weight: 2.007117509841919  bias: 0.17516987025737762\n",
            "epoch: 22  loss: 24.869062423706055  weight: 2.003843069076538  bias: 0.17761653661727905\n",
            "epoch: 23  loss: 24.861848831176758  weight: 2.006066083908081  bias: 0.18022529780864716\n",
            "epoch: 24  loss: 24.855018615722656  weight: 2.0043392181396484  bias: 0.18271547555923462\n",
            "epoch: 25  loss: 24.848373413085938  weight: 2.0054502487182617  bias: 0.18528874218463898\n",
            "epoch: 26  loss: 24.841829299926758  weight: 2.0045225620269775  bias: 0.18780019879341125\n",
            "epoch: 27  loss: 24.835346221923828  weight: 2.0050594806671143  bias: 0.19035394489765167\n",
            "epoch: 28  loss: 24.828901290893555  weight: 2.004544258117676  bias: 0.1928752064704895\n",
            "epoch: 29  loss: 24.82245635986328  weight: 2.0047850608825684  bias: 0.19541770219802856\n",
            "epoch: 30  loss: 24.81603240966797  weight: 2.0044827461242676  bias: 0.1979428231716156\n",
            "epoch: 31  loss: 24.80962371826172  weight: 2.004570722579956  bias: 0.20047831535339355\n",
            "epoch: 32  loss: 24.80322265625  weight: 2.0043785572052  bias: 0.20300425589084625\n",
            "epoch: 33  loss: 24.796825408935547  weight: 2.004387378692627  bias: 0.2055349349975586\n",
            "epoch: 34  loss: 24.790437698364258  weight: 2.0042519569396973  bias: 0.2080601006746292\n",
            "epoch: 35  loss: 24.784048080444336  weight: 2.0042202472686768  bias: 0.21058712899684906\n",
            "epoch: 36  loss: 24.777671813964844  weight: 2.0041141510009766  bias: 0.21311073005199432\n",
            "epoch: 37  loss: 24.77130699157715  weight: 2.004061460494995  bias: 0.21563468873500824\n",
            "epoch: 38  loss: 24.764938354492188  weight: 2.0039706230163574  bias: 0.21815627813339233\n",
            "epoch: 39  loss: 24.758583068847656  weight: 2.0039072036743164  bias: 0.2206774652004242\n",
            "epoch: 40  loss: 24.752222061157227  weight: 2.00382399559021  bias: 0.2231968343257904\n",
            "epoch: 41  loss: 24.74587631225586  weight: 2.0037550926208496  bias: 0.22571541368961334\n",
            "epoch: 42  loss: 24.73953628540039  weight: 2.003676176071167  bias: 0.2282324731349945\n",
            "epoch: 43  loss: 24.733213424682617  weight: 2.0036044120788574  bias: 0.2307485193014145\n",
            "epoch: 44  loss: 24.726865768432617  weight: 2.0035274028778076  bias: 0.23326319456100464\n",
            "epoch: 45  loss: 24.720561981201172  weight: 2.0034544467926025  bias: 0.23577676713466644\n",
            "epoch: 46  loss: 24.7142391204834  weight: 2.003378391265869  bias: 0.23828904330730438\n",
            "epoch: 47  loss: 24.707927703857422  weight: 2.003304958343506  bias: 0.2408001720905304\n",
            "epoch: 48  loss: 24.70162582397461  weight: 2.0032296180725098  bias: 0.24331001937389374\n",
            "epoch: 49  loss: 24.695327758789062  weight: 2.0031557083129883  bias: 0.24581868946552277\n"
          ]
        }
      ]
    },
    {
      "cell_type": "markdown",
      "source": [
        "# Plot model prediction(with trained hyper-parameters) vs dataset"
      ],
      "metadata": {
        "id": "B1LYH7Rb-BVa"
      }
    },
    {
      "cell_type": "code",
      "source": [
        "# Get weight and bias for the trained model\n",
        "w1, b1 = model.linear.weight.item(), model.linear.bias.item()\n",
        "\n",
        "# Get predicted values\n",
        "y1 = X * w1 + b1\n",
        "\n",
        "plt.scatter(X.numpy(), y.numpy())\n",
        "plt.plot(X, y1, 'r')\n",
        "plt.title('Current Model')\n",
        "plt.ylabel('y')\n",
        "plt.xlabel('X')"
      ],
      "metadata": {
        "colab": {
          "base_uri": "https://localhost:8080/",
          "height": 312
        },
        "id": "lT2tOnQA-Mip",
        "outputId": "aca936ef-c3ce-4ee0-8dd2-c685a8234bdf"
      },
      "execution_count": 24,
      "outputs": [
        {
          "output_type": "execute_result",
          "data": {
            "text/plain": [
              "Text(0.5, 0, 'X')"
            ]
          },
          "metadata": {},
          "execution_count": 24
        },
        {
          "output_type": "display_data",
          "data": {
            "text/plain": [
              "<Figure size 432x288 with 1 Axes>"
            ],
            "image/png": "[encoded data removed]"
          },
          "metadata": {
            "needs_background": "light"
          }
        }
      ]
    }
  ]
}